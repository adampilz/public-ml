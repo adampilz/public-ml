{
 "cells": [
  {
   "cell_type": "code",
   "execution_count": null,
   "id": "6355d0bd-bce2-47aa-97a9-08e72384815c",
   "metadata": {},
   "outputs": [],
   "source": []
  },
  {
   "cell_type": "code",
   "execution_count": null,
   "id": "b34ae70b-3288-4ab9-a471-70639765e256",
   "metadata": {},
   "outputs": [],
   "source": [
    "# follows tutorial found here\n",
    "# https://cloud.google.com/bigquery/docs/making-predictions-with-sklearn-models-in-onnx-format"
   ]
  },
  {
   "cell_type": "code",
   "execution_count": null,
   "id": "18de60dd-9a21-4d89-aeca-573725776150",
   "metadata": {},
   "outputs": [],
   "source": [
    "# other important gifts\n",
    "# https://onnx.ai/sklearn-onnx/api_summary.html"
   ]
  },
  {
   "cell_type": "markdown",
   "id": "189a3bee-e402-4f2a-8a33-0deb77aced70",
   "metadata": {},
   "source": [
    "# Installs"
   ]
  },
  {
   "cell_type": "code",
   "execution_count": null,
   "id": "c8f4951a-31cd-410c-a499-a4b61d541eb7",
   "metadata": {},
   "outputs": [],
   "source": [
    "! pip install xgboost -U -q --user\n",
    "! pip install skl2onnx -U -q --user"
   ]
  },
  {
   "cell_type": "markdown",
   "id": "621921df-6886-4301-b46b-290efe4dc6cd",
   "metadata": {},
   "source": [
    "# Setup"
   ]
  },
  {
   "cell_type": "code",
   "execution_count": 2,
   "id": "607042d8-b84e-48c9-8a1e-c19537ca40f6",
   "metadata": {},
   "outputs": [],
   "source": [
    "P = ! gcloud config list --format 'value(core.project)'\n",
    "PROJECT_ID = P[0]\n",
    "PROJECT_NUMBER = !gcloud projects list --filter=\"PROJECT_ID:'{PROJECT_ID}'\" --format='value(PROJECT_NUMBER)'\n",
    "PROJECT_NUMBER = PROJECT_NUMBER[0]\n",
    "REGION = \"us-central1\"\n",
    "\n",
    "# raw source data\n",
    "BUCKET_NAME = f\"bkt-{REGION}-data\"\n",
    "BUCKET_PATH = f\"gs://{BUCKET_NAME}\"\n",
    "USE_CASE = \"bq_inference_engine\"\n",
    "\n",
    "# model\n",
    "MODEL_NAME = \"calibration_model\"\n",
    "\n",
    "# BQ\n",
    "BQ_DATASET = \"ds_uscentral1\"\n",
    "BQ_TABLE = \"calibration_test_set\"\n",
    "BQ_MODEL_NAME = f\"bq_{MODEL_NAME}\""
   ]
  },
  {
   "cell_type": "markdown",
   "id": "df5ab77e-9967-4283-8a4d-fe937fbc72a8",
   "metadata": {},
   "source": [
    "# Train an XGBoost classification model with an scikit-learn calibration model"
   ]
  },
  {
   "cell_type": "code",
   "execution_count": 3,
   "id": "c58ec99b-3552-4041-95c2-bad2c7583ccf",
   "metadata": {},
   "outputs": [],
   "source": [
    "# Import necessary libraries\n",
    "from sklearn import datasets\n",
    "from sklearn.model_selection import train_test_split\n",
    "from xgboost import XGBClassifier\n",
    "from sklearn.pipeline import Pipeline\n",
    "from sklearn.linear_model import LogisticRegression\n",
    "from sklearn.metrics import brier_score_loss\n",
    "import pandas as pd\n",
    "import numpy as np\n",
    "import json"
   ]
  },
  {
   "cell_type": "code",
   "execution_count": 36,
   "id": "53603e9a-0e4a-406a-b0c6-0a9bce506a7c",
   "metadata": {},
   "outputs": [
    {
     "name": "stdout",
     "output_type": "stream",
     "text": [
      "Brier score before calibration: 0.017434884531435425\n",
      "Brier score after calibration: 0.020933944128659076\n"
     ]
    }
   ],
   "source": [
    "# Load the Breast Cancer dataset\n",
    "data = datasets.load_breast_cancer()\n",
    "X = pd.DataFrame(data.data, columns=data.feature_names)\n",
    "y = data.target\n",
    "\n",
    "# Add an ID column\n",
    "X['ID'] = range(len(X))\n",
    "\n",
    "# Split dataset into training set and test set\n",
    "X_train, X_test, y_train, y_test = train_test_split(X, y, test_size=0.3, random_state=42)\n",
    "\n",
    "# Drop 'ID' column from train and test sets for model training and scoring\n",
    "X_train_ids = X_train.pop('ID')\n",
    "X_test_ids = X_test.pop('ID')\n",
    "\n",
    "# Train an XGBoost model\n",
    "model = XGBClassifier(eval_metric='logloss')\n",
    "model.fit(X_train, y_train)\n",
    "\n",
    "# Predict probabilities for the test set\n",
    "predicted_probabilities = model.predict_proba(X_test)\n",
    "\n",
    "# Save probabilities and true outcomes to a new line delimited json file\n",
    "test_set = [{'ID': int(myid), 'testds_xgb_pred_prob': round(float(prob[1]), 5), 'testds_label': int(y)} \n",
    "            for myid, prob, y in zip(X_test_ids, predicted_probabilities, y_test)]\n",
    "\n",
    "# Platt Scaling on probabilties of positive class\n",
    "positive_class_predicted_probabilties = predicted_probabilities[:, 1].reshape(-1, 1)\n",
    "lr = LogisticRegression()\n",
    "lr.fit(positive_class_predicted_probabilties, y_test)\n",
    "\n",
    "# Calibrated probabilities\n",
    "calibrated_probs = lr.predict_proba(positive_class_predicted_probabilties)\n",
    "\n",
    "# Convert calibrated probabilities to DataFrame and add 'ID' column\n",
    "calibrated_probs_df = pd.DataFrame(calibrated_probs[:, 1], columns=['xgb_calibrated_prob_nb'])\n",
    "calibrated_probs_df['ID'] = X_test_ids.values\n",
    "calibrated_probs_df = calibrated_probs_df.sort_values('ID')\n",
    "\n",
    "# Print the before and after calibration Brier scores\n",
    "print('Brier score before calibration:', brier_score_loss(y_test, predicted_probabilities[:, 1]))\n",
    "print('Brier score after calibration:', brier_score_loss(y_test, calibrated_probs[:, 1]))"
   ]
  },
  {
   "cell_type": "markdown",
   "id": "da3d44bf-ee30-42d5-83aa-6b42055757ce",
   "metadata": {},
   "source": [
    "# Write test data partition to GCS -> BQ \n",
    "## (to verify ONNX model in BQ provides same results)"
   ]
  },
  {
   "cell_type": "code",
   "execution_count": 37,
   "id": "2df98835-381f-4acd-be05-1aa4f4fbc910",
   "metadata": {},
   "outputs": [
    {
     "name": "stdout",
     "output_type": "stream",
     "text": [
      "Example row: {'ID': 247, 'testds_xgb_pred_prob': 0.99025, 'testds_label': 1}\n",
      "\n",
      "Copying file://calibration_test_set.json [Content-Type=application/json]...\n",
      "/ [1 files][ 10.6 KiB/ 10.6 KiB]                                                \n",
      "Operation completed over 1 objects/10.6 KiB.                                     \n"
     ]
    }
   ],
   "source": [
    "# write out\n",
    "calibration_test_set_name = f\"{BQ_TABLE}.json\"\n",
    "with open(calibration_test_set_name, 'w') as f:\n",
    "    for item in test_set:\n",
    "        f.write(json.dumps(item) + \"\\n\")\n",
    "\n",
    "print(f\"Example row: {item}\")\n",
    "print('')\n",
    "\n",
    "# save to GCS\n",
    "calibration_test_set_uri = f\"{BUCKET_PATH}/{USE_CASE}/{calibration_test_set_name}\"\n",
    "! gsutil cp {calibration_test_set_name} {calibration_test_set_uri}"
   ]
  },
  {
   "cell_type": "code",
   "execution_count": 38,
   "id": "047c337e-1a5c-4b62-96ca-c335e42bef84",
   "metadata": {},
   "outputs": [
    {
     "name": "stdout",
     "output_type": "stream",
     "text": [
      "Job finished.\n",
      "Loaded 171 rows.\n"
     ]
    }
   ],
   "source": [
    "def load_to_bq(PROJECT_ID, REGION, BQ_DATASET, BQ_TABLE, GCS_URI):\n",
    "    from google.cloud import bigquery\n",
    "\n",
    "    # Construct a BigQuery client object.\n",
    "    client = bigquery.Client(location=REGION, project=PROJECT_ID)\n",
    "\n",
    "    # TODO(developer): Set table_id to the ID of the table to create.\n",
    "    table_id = f\"{PROJECT_ID}.{BQ_DATASET}.{BQ_TABLE}\"\n",
    "\n",
    "    job_config = bigquery.LoadJobConfig(\n",
    "        autodetect=True,\n",
    "        source_format=bigquery.SourceFormat.NEWLINE_DELIMITED_JSON, )\n",
    "\n",
    "    load_job = client.load_table_from_uri(\n",
    "        GCS_URI,\n",
    "        table_id,\n",
    "        location=REGION,\n",
    "        job_config=job_config, )\n",
    "\n",
    "    assert load_job.job_type == \"load\"\n",
    "\n",
    "    load_job.result()  # Waits for the job to complete.\n",
    "    print('Job finished.')\n",
    "\n",
    "    assert load_job.state == \"DONE\"\n",
    "    destination_table = client.get_table(table_id)\n",
    "    print('Loaded {} rows.'.format(destination_table.num_rows))\n",
    "    \n",
    "# Load to BQ\n",
    "load_to_bq(PROJECT_ID, REGION, BQ_DATASET, BQ_TABLE, calibration_test_set_uri)"
   ]
  },
  {
   "cell_type": "markdown",
   "id": "948667a1-cd4c-4384-836c-62e9540f77e4",
   "metadata": {},
   "source": [
    "# Convert the probability calibration model into ONNX format and save"
   ]
  },
  {
   "cell_type": "code",
   "execution_count": null,
   "id": "94bcd7fa-20b5-4fbf-9366-816e1d1ac733",
   "metadata": {},
   "outputs": [],
   "source": [
    "from skl2onnx import convert_sklearn\n",
    "from skl2onnx.common.data_types import FloatTensorType"
   ]
  },
  {
   "cell_type": "code",
   "execution_count": 40,
   "id": "0cee8d4b-6b0e-41aa-a66a-c392fc0e91eb",
   "metadata": {},
   "outputs": [],
   "source": [
    "# Disable zipmap as it is not supported in BigQuery ML.\n",
    "options = {id(lr): {'zipmap': False}}\n",
    "\n",
    "# Define input features. scikit-learn does not store information about the\n",
    "# training dataset. It is not always possible to retrieve the number of features\n",
    "# or their types. That's why the function needs another argument called initial_types. Example\n",
    "\n",
    "# define initial types\n",
    "initial_types = [('testds_xgb_pred_prob', FloatTensorType([None, 1]))]\n",
    "\n",
    "# Convert the model.\n",
    "model_onnx = convert_sklearn(\n",
    "   lr, MODEL_NAME, initial_types=initial_types, options=options\n",
    "    , target_opset=17 # if not set, uses 18 which is unsupported\n",
    ")\n",
    "\n",
    "# Save the calibration model\n",
    "calibration_model_name = f\"{MODEL_NAME}.onnx\"\n",
    "with open(calibration_model_name, 'wb') as f:\n",
    "    f.write(model_onnx.SerializeToString())"
   ]
  },
  {
   "cell_type": "markdown",
   "id": "bff10cf5-6347-4dd0-b566-6631c547c8ed",
   "metadata": {},
   "source": [
    "# Upload the ONNX model to Cloud Storage"
   ]
  },
  {
   "cell_type": "code",
   "execution_count": 42,
   "id": "e98bd4c2-162c-43b2-995c-c73de3ffb968",
   "metadata": {},
   "outputs": [
    {
     "name": "stdout",
     "output_type": "stream",
     "text": [
      "Copying file://calibration_model.onnx [Content-Type=application/octet-stream]...\n",
      "/ [1 files][  487.0 B/  487.0 B]                                                \n",
      "Operation completed over 1 objects/487.0 B.                                      \n"
     ]
    }
   ],
   "source": [
    "calibration_model_uri = f\"{BUCKET_PATH}/{USE_CASE}/{calibration_model_name}\"\n",
    "! gsutil cp {calibration_model_name} {calibration_model_uri}"
   ]
  },
  {
   "cell_type": "markdown",
   "id": "2f4e88c5-6f87-4c45-a98b-7d2b7bb382ae",
   "metadata": {},
   "source": [
    "# Import the ONNX model into BigQuery"
   ]
  },
  {
   "cell_type": "code",
   "execution_count": 43,
   "id": "015be4c8-18d5-4cdc-9feb-0f9ac5e76e02",
   "metadata": {},
   "outputs": [],
   "source": [
    "def create_inference_engine_model(PROJECT_ID, REGION, BQ_DATASET, BQ_MODEL_NAME, GCS_URI):\n",
    "    from google.cloud import bigquery\n",
    "\n",
    "    # Construct a BigQuery client object.\n",
    "    client = bigquery.Client(location=REGION, project=PROJECT_ID)\n",
    "\n",
    "    # Create Remote Model In BigQuery\n",
    "    query = f\"\"\"\n",
    "    CREATE OR REPLACE MODEL `{PROJECT_ID}.{BQ_DATASET}.{BQ_MODEL_NAME}`\n",
    "        OPTIONS (MODEL_TYPE='ONNX', MODEL_PATH='{GCS_URI}')\n",
    "    \"\"\"\n",
    "    job = client.query(query = query)\n",
    "    job.result()\n",
    "    job.state\n",
    "    \n",
    "create_inference_engine_model(PROJECT_ID, REGION, BQ_DATASET, BQ_MODEL_NAME, calibration_model_uri)"
   ]
  },
  {
   "cell_type": "markdown",
   "id": "f1a0f62d-af2b-423f-8b12-a8589cb2519d",
   "metadata": {},
   "source": [
    "# Make predictions with the imported ONNX model"
   ]
  },
  {
   "cell_type": "code",
   "execution_count": 52,
   "id": "36d8a347-7575-434a-bf2d-9ddabf360f59",
   "metadata": {},
   "outputs": [
    {
     "data": {
      "text/html": [
       "<div>\n",
       "<style scoped>\n",
       "    .dataframe tbody tr th:only-of-type {\n",
       "        vertical-align: middle;\n",
       "    }\n",
       "\n",
       "    .dataframe tbody tr th {\n",
       "        vertical-align: top;\n",
       "    }\n",
       "\n",
       "    .dataframe thead th {\n",
       "        text-align: right;\n",
       "    }\n",
       "</style>\n",
       "<table border=\"1\" class=\"dataframe\">\n",
       "  <thead>\n",
       "    <tr style=\"text-align: right;\">\n",
       "      <th></th>\n",
       "      <th>ID</th>\n",
       "      <th>ONNX_label</th>\n",
       "      <th>ONNX_calibrated_prob_pos_class</th>\n",
       "      <th>testds_label</th>\n",
       "      <th>testds_xgb_pred_prob</th>\n",
       "    </tr>\n",
       "  </thead>\n",
       "  <tbody>\n",
       "    <tr>\n",
       "      <th>49</th>\n",
       "      <td>0</td>\n",
       "      <td>0</td>\n",
       "      <td>0.098023</td>\n",
       "      <td>0</td>\n",
       "      <td>0.01165</td>\n",
       "    </tr>\n",
       "    <tr>\n",
       "      <th>19</th>\n",
       "      <td>2</td>\n",
       "      <td>0</td>\n",
       "      <td>0.093009</td>\n",
       "      <td>0</td>\n",
       "      <td>0.00027</td>\n",
       "    </tr>\n",
       "    <tr>\n",
       "      <th>13</th>\n",
       "      <td>6</td>\n",
       "      <td>0</td>\n",
       "      <td>0.092957</td>\n",
       "      <td>0</td>\n",
       "      <td>0.00015</td>\n",
       "    </tr>\n",
       "    <tr>\n",
       "      <th>32</th>\n",
       "      <td>9</td>\n",
       "      <td>0</td>\n",
       "      <td>0.096496</td>\n",
       "      <td>0</td>\n",
       "      <td>0.00824</td>\n",
       "    </tr>\n",
       "    <tr>\n",
       "      <th>12</th>\n",
       "      <td>10</td>\n",
       "      <td>0</td>\n",
       "      <td>0.132607</td>\n",
       "      <td>0</td>\n",
       "      <td>0.07856</td>\n",
       "    </tr>\n",
       "    <tr>\n",
       "      <th>24</th>\n",
       "      <td>11</td>\n",
       "      <td>0</td>\n",
       "      <td>0.093168</td>\n",
       "      <td>0</td>\n",
       "      <td>0.00064</td>\n",
       "    </tr>\n",
       "    <tr>\n",
       "      <th>44</th>\n",
       "      <td>15</td>\n",
       "      <td>0</td>\n",
       "      <td>0.093462</td>\n",
       "      <td>0</td>\n",
       "      <td>0.00132</td>\n",
       "    </tr>\n",
       "    <tr>\n",
       "      <th>53</th>\n",
       "      <td>18</td>\n",
       "      <td>0</td>\n",
       "      <td>0.093013</td>\n",
       "      <td>0</td>\n",
       "      <td>0.00028</td>\n",
       "    </tr>\n",
       "    <tr>\n",
       "      <th>51</th>\n",
       "      <td>22</td>\n",
       "      <td>0</td>\n",
       "      <td>0.098787</td>\n",
       "      <td>0</td>\n",
       "      <td>0.01334</td>\n",
       "    </tr>\n",
       "    <tr>\n",
       "      <th>4</th>\n",
       "      <td>29</td>\n",
       "      <td>0</td>\n",
       "      <td>0.192781</td>\n",
       "      <td>0</td>\n",
       "      <td>0.16601</td>\n",
       "    </tr>\n",
       "  </tbody>\n",
       "</table>\n",
       "</div>"
      ],
      "text/plain": [
       "    ID  ONNX_label  ONNX_calibrated_prob_pos_class  testds_label  \\\n",
       "49   0           0                        0.098023             0   \n",
       "19   2           0                        0.093009             0   \n",
       "13   6           0                        0.092957             0   \n",
       "32   9           0                        0.096496             0   \n",
       "12  10           0                        0.132607             0   \n",
       "24  11           0                        0.093168             0   \n",
       "44  15           0                        0.093462             0   \n",
       "53  18           0                        0.093013             0   \n",
       "51  22           0                        0.098787             0   \n",
       "4   29           0                        0.192781             0   \n",
       "\n",
       "    testds_xgb_pred_prob  \n",
       "49               0.01165  \n",
       "19               0.00027  \n",
       "13               0.00015  \n",
       "32               0.00824  \n",
       "12               0.07856  \n",
       "24               0.00064  \n",
       "44               0.00132  \n",
       "53               0.00028  \n",
       "51               0.01334  \n",
       "4                0.16601  "
      ]
     },
     "execution_count": 52,
     "metadata": {},
     "output_type": "execute_result"
    }
   ],
   "source": [
    "def perform_inference_calibration_model(PROJECT_ID, REGION, BQ_DATASET, BQ_MODEL_NAME, BQ_TABLE):\n",
    "    from google.cloud import bigquery\n",
    "\n",
    "    # Construct a BigQuery client object.\n",
    "    client = bigquery.Client(location=REGION, project=PROJECT_ID)\n",
    "\n",
    "    # Create Remote Model In BigQuery\n",
    "    query = f\"\"\"\n",
    "    SELECT \n",
    "        ID\n",
    "        , label AS ONNX_label\n",
    "        , probabilities[offset(1)] AS ONNX_calibrated_prob_pos_class\n",
    "        , testds_label\n",
    "        , testds_xgb_pred_prob\n",
    "    FROM ML.PREDICT(MODEL {BQ_DATASET}.{BQ_MODEL_NAME},\n",
    "     (\n",
    "      SELECT * FROM {PROJECT_ID}.{BQ_DATASET}.{BQ_TABLE}\n",
    "     )\n",
    "    )\n",
    "    \"\"\"\n",
    "    #print(\"Query to run in console:\")\n",
    "    #print(query)\n",
    "    job = client.query(query = query)\n",
    "    df =job.to_dataframe().sort_values('ID')\n",
    "    return df\n",
    "    \n",
    "df = perform_inference_calibration_model(PROJECT_ID, REGION, BQ_DATASET, BQ_MODEL_NAME, BQ_TABLE)\n",
    "df.head(10)"
   ]
  },
  {
   "cell_type": "code",
   "execution_count": 55,
   "id": "a619858d-efa5-4497-b604-b272c8a995a4",
   "metadata": {},
   "outputs": [
    {
     "name": "stdout",
     "output_type": "stream",
     "text": [
      "Below are the probabilties that were calculated in the notebook.\n",
      "You can compare these to the 'ONNX_calibrated_prob_pos_class' above to\n",
      "verify they are the same to 4 significant digits\n",
      "\n"
     ]
    },
    {
     "data": {
      "text/html": [
       "<div>\n",
       "<style scoped>\n",
       "    .dataframe tbody tr th:only-of-type {\n",
       "        vertical-align: middle;\n",
       "    }\n",
       "\n",
       "    .dataframe tbody tr th {\n",
       "        vertical-align: top;\n",
       "    }\n",
       "\n",
       "    .dataframe thead th {\n",
       "        text-align: right;\n",
       "    }\n",
       "</style>\n",
       "<table border=\"1\" class=\"dataframe\">\n",
       "  <thead>\n",
       "    <tr style=\"text-align: right;\">\n",
       "      <th></th>\n",
       "      <th>xgb_calibrated_prob_nb</th>\n",
       "      <th>ID</th>\n",
       "    </tr>\n",
       "  </thead>\n",
       "  <tbody>\n",
       "    <tr>\n",
       "      <th>130</th>\n",
       "      <td>0.098023</td>\n",
       "      <td>0</td>\n",
       "    </tr>\n",
       "    <tr>\n",
       "      <th>61</th>\n",
       "      <td>0.093009</td>\n",
       "      <td>2</td>\n",
       "    </tr>\n",
       "    <tr>\n",
       "      <th>38</th>\n",
       "      <td>0.092958</td>\n",
       "      <td>6</td>\n",
       "    </tr>\n",
       "    <tr>\n",
       "      <th>86</th>\n",
       "      <td>0.096494</td>\n",
       "      <td>9</td>\n",
       "    </tr>\n",
       "    <tr>\n",
       "      <th>36</th>\n",
       "      <td>0.132607</td>\n",
       "      <td>10</td>\n",
       "    </tr>\n",
       "    <tr>\n",
       "      <th>71</th>\n",
       "      <td>0.093167</td>\n",
       "      <td>11</td>\n",
       "    </tr>\n",
       "    <tr>\n",
       "      <th>119</th>\n",
       "      <td>0.093463</td>\n",
       "      <td>15</td>\n",
       "    </tr>\n",
       "    <tr>\n",
       "      <th>141</th>\n",
       "      <td>0.093013</td>\n",
       "      <td>18</td>\n",
       "    </tr>\n",
       "    <tr>\n",
       "      <th>135</th>\n",
       "      <td>0.098788</td>\n",
       "      <td>22</td>\n",
       "    </tr>\n",
       "    <tr>\n",
       "      <th>7</th>\n",
       "      <td>0.192778</td>\n",
       "      <td>29</td>\n",
       "    </tr>\n",
       "  </tbody>\n",
       "</table>\n",
       "</div>"
      ],
      "text/plain": [
       "     xgb_calibrated_prob_nb  ID\n",
       "130                0.098023   0\n",
       "61                 0.093009   2\n",
       "38                 0.092958   6\n",
       "86                 0.096494   9\n",
       "36                 0.132607  10\n",
       "71                 0.093167  11\n",
       "119                0.093463  15\n",
       "141                0.093013  18\n",
       "135                0.098788  22\n",
       "7                  0.192778  29"
      ]
     },
     "execution_count": 55,
     "metadata": {},
     "output_type": "execute_result"
    }
   ],
   "source": [
    "print(\"Below are the probabilties that were calculated in the notebook.\")\n",
    "print(\"You can compare these to the 'ONNX_calibrated_prob_pos_class' above to\")\n",
    "print(\"verify they are the same to 4 significant digits\")\n",
    "print('')\n",
    "calibrated_probs_df.head(10)"
   ]
  }
 ],
 "metadata": {
  "environment": {
   "kernel": "python3",
   "name": "common-cpu.m109",
   "type": "gcloud",
   "uri": "gcr.io/deeplearning-platform-release/base-cpu:m109"
  },
  "kernelspec": {
   "display_name": "Python 3",
   "language": "python",
   "name": "python3"
  },
  "language_info": {
   "codemirror_mode": {
    "name": "ipython",
    "version": 3
   },
   "file_extension": ".py",
   "mimetype": "text/x-python",
   "name": "python",
   "nbconvert_exporter": "python",
   "pygments_lexer": "ipython3",
   "version": "3.10.11"
  }
 },
 "nbformat": 4,
 "nbformat_minor": 5
}
